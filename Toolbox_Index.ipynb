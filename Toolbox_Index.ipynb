{
 "cells": [
  {
   "cell_type": "markdown",
   "id": "ddf519c7",
   "metadata": {},
   "source": [
    "\n",
    "# 📦 Statistical Toolbox: Master Index\n",
    "\n",
    "Welcome! This dashboard helps you navigate through different modules in the statistical toolbox.\n",
    "\n",
    "Click on the links below to open each notebook:\n",
    "\n",
    "---\n",
    "\n",
    "## 🔍 Topics Covered\n",
    "\n",
    "- 📊 [Descriptive Statistics](Tools/descriptive_statistics.ipynb)\n",
    "- 🎲 [Probability Distributions](Tools/Probability_Distributions.ipynb)\n",
    "- 📈 [Inferential Statistics](Tools/Inferential_Statistics.ipynb)\n",
    "- 🏠 [Regression Analysis](Tools/Regression_Analysis.ipynb)\n",
    "- 🧪 [Hypothesis Testing](Hypothesis_Testing.ipynb)\n",
    "- ⏳ [Time Series Analysis](Time_Series_Analysis.ipynb)\n",
    "- 🧬 [Clustering & Classification](Clustering_Classification.ipynb)\n",
    "\n",
    "---\n",
    "\n",
    "## 📎 Instructions\n",
    "\n",
    "1. Click any topic above to open the corresponding notebook.\n",
    "2. Each notebook includes:\n",
    "   - A brief explanation of the concept\n",
    "   - Code examples with visualizations\n",
    "   - Sample datasets and use cases\n",
    "\n",
    "Enjoy exploring!\n"
   ]
  }
 ],
 "metadata": {},
 "nbformat": 4,
 "nbformat_minor": 5
}
