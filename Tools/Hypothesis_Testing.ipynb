{
  "nbformat": 4,
  "nbformat_minor": 0,
  "metadata": {
    "colab": {
      "provenance": [],
      "authorship_tag": "ABX9TyMMuYWt157i4gLV8dENLjmh",
      "include_colab_link": true
    },
    "kernelspec": {
      "name": "python3",
      "display_name": "Python 3"
    },
    "language_info": {
      "name": "python"
    }
  },
  "cells": [
    {
      "cell_type": "markdown",
      "metadata": {
        "id": "view-in-github",
        "colab_type": "text"
      },
      "source": [
        "<a href=\"https://colab.research.google.com/github/Shreeraj98/Statistical-Toolbox-for-easy-access/blob/main/Tools/Hypothesis_Testing.ipynb\" target=\"_parent\"><img src=\"https://colab.research.google.com/assets/colab-badge.svg\" alt=\"Open In Colab\"/></a>"
      ]
    },
    {
      "cell_type": "markdown",
      "source": [
        "🧪 **Hypothesis Testing**\n",
        "\n",
        "Test assumptions with t-tests, ANOVA, and chi-square analyses."
      ],
      "metadata": {
        "id": "DkmjVMbhjZ3R"
      }
    },
    {
      "cell_type": "code",
      "execution_count": null,
      "metadata": {
        "colab": {
          "base_uri": "https://localhost:8080/",
          "height": 931
        },
        "id": "rAWNjuf1BDWv",
        "outputId": "4a424dd8-9643-45c2-8170-a2135d902d21"
      },
      "outputs": [
        {
          "output_type": "stream",
          "name": "stdout",
          "text": [
            "📘 One-Sample t-Test:\n",
            "Test statistic = 4.693, p-value = 0.000\n",
            "\n",
            "📙 Two-Sample t-Test:\n",
            "Test statistic = 1.023, p-value = 0.310\n",
            "\n",
            "📗 Chi-Square Test of Independence:\n",
            "Chi² = 4.72, p-value = 0.0297\n",
            "Expected frequencies:\n",
            " [[15. 20.]\n",
            " [15. 20.]]\n",
            "\n",
            "📕 One-Way ANOVA (A vs B vs C):\n",
            "F-statistic = 0.730, p-value = 0.485\n"
          ]
        },
        {
          "output_type": "stream",
          "name": "stderr",
          "text": [
            "<ipython-input-1-64859f4257ac>:59: FutureWarning: \n",
            "\n",
            "Passing `palette` without assigning `hue` is deprecated and will be removed in v0.14.0. Assign the `x` variable to `hue` and set `legend=False` for the same effect.\n",
            "\n",
            "  sns.boxplot(x='Group', y='Score', data=df, palette='Set2')\n"
          ]
        },
        {
          "output_type": "display_data",
          "data": {
            "text/plain": [
              "<Figure size 640x480 with 1 Axes>"
            ],
            "image/png": "[encoded data removed]"
          },
          "metadata": {}
        },
        {
          "output_type": "stream",
          "name": "stdout",
          "text": [
            "\n",
            "🔍 Type I Error (False Positive): \n",
            "Rejecting the null hypothesis when it's actually true (α risk).\n",
            "\n",
            "🔍 Type II Error (False Negative): \n",
            "Failing to reject the null hypothesis when it is false (β risk).\n",
            "\n"
          ]
        }
      ],
      "source": [
        "import numpy as np\n",
        "import pandas as pd\n",
        "import scipy.stats as stats\n",
        "import matplotlib.pyplot as plt\n",
        "import seaborn as sns\n",
        "\n",
        "# Set style\n",
        "sns.set(style=\"whitegrid\")\n",
        "\n",
        "# --------------------------------------\n",
        "# Simulated Example: Test Scores for Two Classes\n",
        "# --------------------------------------\n",
        "np.random.seed(0)\n",
        "class_A = np.random.normal(loc=75, scale=10, size=30)\n",
        "class_B = np.random.normal(loc=80, scale=12, size=30)\n",
        "population_mean = 70\n",
        "\n",
        "# --------------------------------------\n",
        "# 1. One-Sample t-Test\n",
        "# --------------------------------------\n",
        "t_stat1, p_val1 = stats.ttest_1samp(class_A, population_mean)\n",
        "print(\"📘 One-Sample t-Test:\")\n",
        "print(f\"Test statistic = {t_stat1:.3f}, p-value = {p_val1:.3f}\")\n",
        "\n",
        "# --------------------------------------\n",
        "# 2. Two-Sample t-Test\n",
        "# --------------------------------------\n",
        "t_stat2, p_val2 = stats.ttest_ind(class_A, class_B)\n",
        "print(\"\\n📙 Two-Sample t-Test:\")\n",
        "print(f\"Test statistic = {t_stat2:.3f}, p-value = {p_val2:.3f}\")\n",
        "\n",
        "# --------------------------------------\n",
        "# 3. Chi-Square Test (Independence)\n",
        "# Example: Preference between Math and Science by Gender\n",
        "# --------------------------------------\n",
        "obs = np.array([[20, 15],   # Male\n",
        "                [10, 25]])  # Female\n",
        "chi2_stat, chi2_p, dof, expected = stats.chi2_contingency(obs)\n",
        "print(\"\\n📗 Chi-Square Test of Independence:\")\n",
        "print(f\"Chi² = {chi2_stat:.2f}, p-value = {chi2_p:.4f}\")\n",
        "print(\"Expected frequencies:\\n\", expected)\n",
        "\n",
        "# --------------------------------------\n",
        "# 4. ANOVA: Compare 3 classes\n",
        "# --------------------------------------\n",
        "class_C = np.random.normal(loc=78, scale=9, size=30)\n",
        "f_stat, p_val_anova = stats.f_oneway(class_A, class_B, class_C)\n",
        "print(\"\\n📕 One-Way ANOVA (A vs B vs C):\")\n",
        "print(f\"F-statistic = {f_stat:.3f}, p-value = {p_val_anova:.3f}\")\n",
        "\n",
        "# --------------------------------------\n",
        "# Boxplot for ANOVA groups\n",
        "# --------------------------------------\n",
        "df = pd.DataFrame({\n",
        "    'Score': np.concatenate([class_A, class_B, class_C]),\n",
        "    'Group': ['A']*30 + ['B']*30 + ['C']*30\n",
        "})\n",
        "\n",
        "sns.boxplot(x='Group', y='Score', data=df, palette='Set2')\n",
        "plt.title(\"Scores by Class (A, B, C)\")\n",
        "plt.show()\n",
        "\n",
        "# --------------------------------------\n",
        "# 📌 Type I vs Type II Errors (Explanation)\n",
        "# --------------------------------------\n",
        "print(\"\"\"\n",
        "🔍 Type I Error (False Positive):\n",
        "Rejecting the null hypothesis when it's actually true (α risk).\n",
        "\n",
        "🔍 Type II Error (False Negative):\n",
        "Failing to reject the null hypothesis when it is false (β risk).\n",
        "\"\"\")\n"
      ]
    }
  ]
}