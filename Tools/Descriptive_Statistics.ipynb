# 📊 Descriptive Statistics - Summary of Sales Data

import pandas as pd
import numpy as np
import seaborn as sns
import matplotlib.pyplot as plt
from scipy import stats

# Example sales dataset
data = {
    'Sales': [120, 150, 130, 170, 160, 180, 200, 210, 190, 175, 165, 155, 145, 135, 125]
}

df = pd.DataFrame(data)

# Display the dataset
print("📄 Sales Data:")
print(df)

# Descriptive statistics
mean = df['Sales'].mean()
median = df['Sales'].median()
mode = df['Sales'].mode().iloc[0]  # .mode() returns a Series
range_val = df['Sales'].max() - df['Sales'].min()
variance = df['Sales'].var()
std_dev = df['Sales'].std()

# Display results
print("\n📌 Descriptive Statistics:")
print(f"Mean: {mean}")
print(f"Median: {median}")
print(f"Mode: {mode}")
print(f"Range: {range_val}")
print(f"Variance: {variance}")
print(f"Standard Deviation: {std_dev}")

# Plotting
plt.figure(figsize=(12, 5))

# Histogram
plt.subplot(1, 2, 1)
sns.histplot(df['Sales'], bins=8, kde=True, color='skyblue')
plt.title('Histogram of Sales')
plt.xlabel('Sales Amount')
plt.ylabel('Frequency')

# Boxplot
plt.subplot(1, 2, 2)
sns.boxplot(x=df['Sales'], color='lightgreen')
plt.title('Boxplot of Sales')

plt.tight_layout()
plt.show()
